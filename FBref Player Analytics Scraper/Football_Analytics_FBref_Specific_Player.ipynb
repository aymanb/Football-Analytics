{
  "nbformat": 4,
  "nbformat_minor": 0,
  "metadata": {
    "colab": {
      "provenance": []
    },
    "kernelspec": {
      "name": "python3",
      "display_name": "Python 3"
    },
    "language_info": {
      "name": "python"
    }
  },
  "cells": [
    {
      "cell_type": "code",
      "execution_count": 1,
      "metadata": {
        "id": "mlIfyg4eK6iD"
      },
      "outputs": [],
      "source": [
        "import pandas as pd\n",
        "import matplotlib.pyplot as plt\n",
        "import seaborn as sns\n",
        "import numpy as np"
      ]
    },
    {
      "cell_type": "markdown",
      "source": [
        "## Link of The Player profile on FBref"
      ],
      "metadata": {
        "id": "kO0dCVsZK2QJ"
      }
    },
    {
      "cell_type": "code",
      "source": [
        "url = 'https://fbref.com/en/players/2c0558b8/Jamal-Musiala'"
      ],
      "metadata": {
        "id": "qw_mMekxK8fo"
      },
      "execution_count": 7,
      "outputs": []
    },
    {
      "cell_type": "markdown",
      "source": [
        "## Data Frame for each Analytics Type"
      ],
      "metadata": {
        "id": "w9y3kW_8UIqK"
      }
    },
    {
      "cell_type": "code",
      "source": [
        "df_Standard_stats = pd.read_html(url, attrs={'id': 'stats_standard_dom_lg'})[0]\n",
        "df_Shooting = pd.read_html(url, attrs={'id': 'stats_shooting_dom_lg'})[0]\n",
        "df_Passing = pd.read_html(url, attrs={'id': 'stats_passing_dom_lg'})[0]\n",
        "df_Passing_Types = pd.read_html(url, attrs={'id': 'stats_passing_types_dom_lg'})[0]\n",
        "df_Goal_ShotCreation = pd.read_html(url, attrs={'id': 'stats_gca_dom_lg'})[0]\n",
        "df_Defensive_Actions = pd.read_html(url, attrs={'id': 'stats_defense_dom_lg'})[0]\n",
        "df_Possession = pd.read_html(url, attrs={'id': 'stats_possession_dom_lg'})[0]\n",
        "df_Playing_Time = pd.read_html(url, attrs={'id': 'stats_playing_time_dom_lg'})[0]\n",
        "df_Possession = pd.read_html(url, attrs={'id': 'stats_possession_dom_lg'})[0]\n",
        "df_Misc = pd.read_html(url, attrs={'id': 'stats_misc_dom_lg'})[0]\n",
        "##df_Wages = pd.read_html(url, attrs={'id': 'wages'})[0]"
      ],
      "metadata": {
        "id": "di_t3ySiLL60",
        "collapsed": true
      },
      "execution_count": 8,
      "outputs": []
    },
    {
      "cell_type": "markdown",
      "source": [
        "## Save multiple dataframes as CSV file\n"
      ],
      "metadata": {
        "id": "4hW_t3pWUMPV"
      }
    },
    {
      "cell_type": "code",
      "source": [
        "import re"
      ],
      "metadata": {
        "id": "ArpoFnau6DKq"
      },
      "execution_count": 11,
      "outputs": []
    },
    {
      "cell_type": "markdown",
      "source": [
        "### Extract Player Name from the URL"
      ],
      "metadata": {
        "id": "_dj9Gkdd6UIT"
      }
    },
    {
      "cell_type": "code",
      "source": [
        "player_name = url.rstrip('/').split('/')[-1]  # 'Jamal-Musiala'"
      ],
      "metadata": {
        "id": "ePMOiftS6Gmb"
      },
      "execution_count": 12,
      "outputs": []
    },
    {
      "cell_type": "code",
      "source": [
        "dfs = {\n",
        "    f'{player_name}_Standard_stats': df_Standard_stats,\n",
        "    f'{player_name}_Shooting': df_Shooting,\n",
        "    f'{player_name}_Passing': df_Passing,\n",
        "    f'{player_name}_Passing_Types': df_Passing_Types,\n",
        "    f'{player_name}_Goal_ShotCreation': df_Goal_ShotCreation,\n",
        "    f'{player_name}_Defensive_Actions': df_Defensive_Actions,\n",
        "    f'{player_name}_Possession': df_Possession,\n",
        "    f'{player_name}_Playing_Time': df_Playing_Time,\n",
        "    f'{player_name}_Misc': df_Misc\n",
        "    # f'{player_name}_Wages': df_Wages\n",
        "}\n",
        "\n",
        "for name, df in dfs.items():\n",
        "    df.to_csv(f'{name}.csv', index=False)"
      ],
      "metadata": {
        "id": "e9yllbmY6MqJ"
      },
      "execution_count": 14,
      "outputs": []
    }
  ]
}